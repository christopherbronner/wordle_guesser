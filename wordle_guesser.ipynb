{
 "cells": [
  {
   "cell_type": "markdown",
   "metadata": {},
   "source": [
    "# Wordle Guesser"
   ]
  },
  {
   "cell_type": "markdown",
   "metadata": {},
   "source": [
    "[Wordle](https://www.powerlanguage.co.uk/wordle/) is a popular word guessing game in which the player has six attempts at identifying a hidden 5-letter word. After each guess, the player receives color-coded feedback on each of the five letters of the guessed word: (1) a green letter indicates that this letter occurs in the hidden word at this position, (2) a yellow letter indicates that this letter occurs in the hidden word at a different position, (3) a gray letter doesn't appear in the hidden word.\n",
    "\n",
    "In this notebook, I'm developing a "
   ]
  },
  {
   "cell_type": "code",
   "execution_count": 1,
   "metadata": {},
   "outputs": [],
   "source": [
    "#from IPython.core.display import display, HTML\n",
    "#display(HTML(\"<style>.container { width:60% !important; }</style>\"))"
   ]
  },
  {
   "cell_type": "code",
   "execution_count": 2,
   "metadata": {},
   "outputs": [],
   "source": [
    "import numpy as np\n",
    "import pandas as pd\n",
    "import re\n",
    "import random\n",
    "import matplotlib.pyplot as plt"
   ]
  },
  {
   "cell_type": "markdown",
   "metadata": {},
   "source": [
    "# Load possible words and list of letters ordered by frequency"
   ]
  },
  {
   "cell_type": "markdown",
   "metadata": {},
   "source": [
    "In the following, I'm loading a list of possible words that are used in Wordle, as well as a list of letters sorted by how frequently they occur in the English language."
   ]
  },
  {
   "cell_type": "code",
   "execution_count": 3,
   "metadata": {},
   "outputs": [],
   "source": [
    "## List of possible words from FiveThirtyEight: \n",
    "# https://fivethirtyeight.com/features/when-the-riddler-met-wordle/\n",
    "\n",
    "# Guessable words\n",
    "# https://docs.google.com/spreadsheets/d/1KR5lsyI60J1Ek6YgJRU2hKsk4iAOWvlPLUWjAZ6m8sg/edit#gid=0\n",
    "# all_words = pd.read_csv('https://docs.google.com/spreadsheets/d/1KR5lsyI60J1Ek6YgJRU2hKsk4iAOWvlPLUWjAZ6m8sg/gviz/tq?tqx=out:csv&sheet=Sheet1', header=None)[0]\n",
    "\n",
    "# Mystery words\n",
    "# https://docs.google.com/spreadsheets/d/1-M0RIVVZqbeh0mZacdAsJyBrLuEmhKUhNaVAI-7pr2Y/edit#gid=0\n",
    "all_words = pd.read_csv('https://docs.google.com/spreadsheets/d/1-M0RIVVZqbeh0mZacdAsJyBrLuEmhKUhNaVAI-7pr2Y/gviz/tq?tqx=out:csv&sheet=Sheet1', header=None)[0]\n",
    "\n",
    "# from https://www3.nd.edu/~busiforc/handouts/cryptography/letterfrequencies.html\n",
    "#letters_ordered = ['e','t','a','i','n','o','s','h','r','d','l','u','c','m','f','w','y','g','p','b','v','k','q','j','x','z']\n",
    "letters_ordered = ['e','a','r','i','o','t','n','s','l','c','u','d','p','m','h','g','b','f','y','w','k','v','x','z','j','q']\n"
   ]
  },
  {
   "cell_type": "markdown",
   "metadata": {},
   "source": [
    "# Function definitions"
   ]
  },
  {
   "cell_type": "code",
   "execution_count": 4,
   "metadata": {},
   "outputs": [],
   "source": [
    "# Returns character-wise evaluation of result (g = green, x = gray, y = yellow)\n",
    "def evaluate_guess(guess_str, actual_str):\n",
    "    res_str = ''\n",
    "    for char_id in np.arange(5):\n",
    "        this_char_res = 'x'\n",
    "        if guess_str[char_id] in actual_str:\n",
    "            this_char_res = 'y'\n",
    "            if guess_str[char_id] == actual_str[char_id]:\n",
    "                this_char_res = 'g'\n",
    "        res_str += this_char_res\n",
    "    return res_str\n",
    "\n",
    "# Returns list of remaining words given prior results\n",
    "def remaining_words(prior_guesses, prior_res):\n",
    "    # Table with known information about each letter and the response from prior guesses\n",
    "    know = pd.DataFrame({ 'letter': list(''.join(prior_guesses)),\n",
    "                          'response': list(''.join(prior_res)),\n",
    "                          'position': list(np.arange(1,6)) * len(prior_guesses)\n",
    "                         })  \n",
    "    \n",
    "    # Excluded and yellow letters (excluded letters not counted if they also show up as green somewhere)\n",
    "    excluded_letters = [l for l in list(know[know['response']=='x']['letter'].unique()) if l not in list(know[know['response']=='g']['letter'].unique())]\n",
    "    yellow_letters = list(know[know['response']=='y']['letter'].unique())\n",
    "    \n",
    "    # Only words that don't contain excluded letters\n",
    "    rm = [w for w in all_words if not any(l in w for l in excluded_letters)]\n",
    "    \n",
    "    # Only words that contain all yellow letters\n",
    "    rm = [w for w in rm if (yellow_letters == []) | all(l in w for l in yellow_letters)]\n",
    "    \n",
    "    ## Only words that have green letters in the right place\n",
    "    # positions with known letter\n",
    "    green_pos = know[know['response']=='g'].groupby('position', as_index=False).max()[['position','letter']]\n",
    "\n",
    "    # For each known position, filter only words that have the right letter in that position\n",
    "    for p, l in green_pos.itertuples(index=False):\n",
    "        rm = [w for w in rm if w[p-1] == l]    \n",
    "        \n",
    "    ## Only words that don't have yellow letters in the same place as previously\n",
    "    # positions with yellow letter\n",
    "    yellow_pos = know[know['response']=='y'].groupby('position', as_index=False).max()[['position','letter']]\n",
    "\n",
    "    # For each known position, filter only words that don't have the yellow letter in that position\n",
    "    for p, l in yellow_pos.itertuples(index=False):\n",
    "        rm = [w for w in rm if w[p-1] != l]         \n",
    "        \n",
    "    # Exclude words that were alrady tried\n",
    "    rm = [w for w in rm if w not in prior_guesses]\n",
    "    \n",
    "    # Add word score and number of unique letters and return as randomized dataframe\n",
    "    rm = pd.DataFrame({'word': rm})\n",
    "    rm['score'] = rm['word'].map(word_score)\n",
    "    rm['unique_letters'] = rm['word'].map(lambda x: len(set(x)))\n",
    "    rm = rm.sample(frac = 1.)\n",
    "        \n",
    "    return rm\n",
    "\n",
    "# Calculate the score for a word based on letter frequency where a high score indicates a word with many frequently occuring letters\n",
    "def word_score(word):\n",
    "    word_score = 0\n",
    "    for c in word:\n",
    "        word_score += len(letters_ordered) - letters_ordered.index(c)\n",
    "    return word_score\n",
    "\n",
    "# Simulates n_samples games of wordle in which the guessing_function is used to determine the next guesses\n",
    "def benchmark_method(guessing_function, n_samples, starting_word = 'irate'):\n",
    "    sim_attempts = []\n",
    "\n",
    "    for i in np.arange(100):\n",
    "        # Choose actual word\n",
    "        actual_str = random.choice(all_words)\n",
    "        #print(actual_str)\n",
    "        # First guess\n",
    "        n_attempts = 1\n",
    "        guesses = [starting_word]\n",
    "        res = [evaluate_guess(starting_word, actual_str)]\n",
    "\n",
    "        # check if this was the right word\n",
    "        if res[-1] == 'ggggg':\n",
    "            break;    \n",
    "\n",
    "        for n_attempts in np.arange(2,11):\n",
    "\n",
    "            # Next guesses\n",
    "            guesses.append(guessing_function(guesses, res))\n",
    "            res.append(evaluate_guess(guesses[-1], actual_str))\n",
    "\n",
    "            #print(guesses[-1], res[-1])\n",
    "\n",
    "            # check if this was the right word\n",
    "            if res[-1] == 'ggggg':\n",
    "                break;\n",
    "\n",
    "        sim_attempts.append(n_attempts)    \n",
    "    \n",
    "    return sim_attempts\n",
    "\n",
    "    \n",
    "    "
   ]
  },
  {
   "cell_type": "markdown",
   "metadata": {},
   "source": [
    "## First word: 'irate'"
   ]
  },
  {
   "cell_type": "markdown",
   "metadata": {},
   "source": [
    "The first guess cannot rely on any feedback and therefore can be the same in each game. It has to be a word from the list of all words and I'm choosing one that has 5 different letters so as to maximize the letters that can be excluded after the first try. Out of the words that match these criteria, I'm choosing the one with the highest word score."
   ]
  },
  {
   "cell_type": "code",
   "execution_count": 5,
   "metadata": {},
   "outputs": [
    {
     "data": {
      "text/html": [
       "<div>\n",
       "<style scoped>\n",
       "    .dataframe tbody tr th:only-of-type {\n",
       "        vertical-align: middle;\n",
       "    }\n",
       "\n",
       "    .dataframe tbody tr th {\n",
       "        vertical-align: top;\n",
       "    }\n",
       "\n",
       "    .dataframe thead th {\n",
       "        text-align: right;\n",
       "    }\n",
       "</style>\n",
       "<table border=\"1\" class=\"dataframe\">\n",
       "  <thead>\n",
       "    <tr style=\"text-align: right;\">\n",
       "      <th></th>\n",
       "      <th>word</th>\n",
       "      <th>score</th>\n",
       "      <th>unique_letters</th>\n",
       "    </tr>\n",
       "  </thead>\n",
       "  <tbody>\n",
       "    <tr>\n",
       "      <th>1043</th>\n",
       "      <td>irate</td>\n",
       "      <td>119</td>\n",
       "      <td>5</td>\n",
       "    </tr>\n",
       "    <tr>\n",
       "      <th>105</th>\n",
       "      <td>arise</td>\n",
       "      <td>117</td>\n",
       "      <td>5</td>\n",
       "    </tr>\n",
       "    <tr>\n",
       "      <th>1534</th>\n",
       "      <td>raise</td>\n",
       "      <td>117</td>\n",
       "      <td>5</td>\n",
       "    </tr>\n",
       "    <tr>\n",
       "      <th>108</th>\n",
       "      <td>arose</td>\n",
       "      <td>116</td>\n",
       "      <td>5</td>\n",
       "    </tr>\n",
       "    <tr>\n",
       "      <th>1545</th>\n",
       "      <td>ratio</td>\n",
       "      <td>115</td>\n",
       "      <td>5</td>\n",
       "    </tr>\n",
       "  </tbody>\n",
       "</table>\n",
       "</div>"
      ],
      "text/plain": [
       "       word  score  unique_letters\n",
       "1043  irate    119               5\n",
       "105   arise    117               5\n",
       "1534  raise    117               5\n",
       "108   arose    116               5\n",
       "1545  ratio    115               5"
      ]
     },
     "execution_count": 5,
     "metadata": {},
     "output_type": "execute_result"
    }
   ],
   "source": [
    "tmp = remaining_words([], [])\n",
    "tmp = tmp.loc[tmp['unique_letters']==5]\n",
    "tmp.sort_values('score', ascending=False).head()"
   ]
  },
  {
   "cell_type": "markdown",
   "metadata": {},
   "source": [
    "## Manual"
   ]
  },
  {
   "cell_type": "code",
   "execution_count": 6,
   "metadata": {},
   "outputs": [],
   "source": [
    "# Pick a hidden word\n",
    "actual_str = random.choice(all_words)"
   ]
  },
  {
   "cell_type": "code",
   "execution_count": 7,
   "metadata": {},
   "outputs": [
    {
     "data": {
      "text/plain": [
       "'xggxy'"
      ]
     },
     "execution_count": 7,
     "metadata": {},
     "output_type": "execute_result"
    }
   ],
   "source": [
    "# Make a guess at the hidden word\n",
    "evaluate_guess('varia', actual_str)"
   ]
  },
  {
   "cell_type": "markdown",
   "metadata": {},
   "source": [
    "## 1. Randomly choosing from remaining possible words"
   ]
  },
  {
   "cell_type": "code",
   "execution_count": 8,
   "metadata": {},
   "outputs": [],
   "source": [
    "prior_guesses = ['irate', 'furan', 'damar', 'achar', 'alvar']\n",
    "prior_res     = ['xyyxx', 'xxygx', 'xxxgg', 'xxxgg', 'xyxgg']"
   ]
  },
  {
   "cell_type": "code",
   "execution_count": 9,
   "metadata": {},
   "outputs": [],
   "source": [
    "def suggest_next_random(prior_guesses, prior_res):\n",
    "    return remaining_words(prior_guesses, prior_res).iloc[0,0]"
   ]
  },
  {
   "cell_type": "code",
   "execution_count": 10,
   "metadata": {},
   "outputs": [
    {
     "data": {
      "text/html": [
       "<div>\n",
       "<style scoped>\n",
       "    .dataframe tbody tr th:only-of-type {\n",
       "        vertical-align: middle;\n",
       "    }\n",
       "\n",
       "    .dataframe tbody tr th {\n",
       "        vertical-align: top;\n",
       "    }\n",
       "\n",
       "    .dataframe thead th {\n",
       "        text-align: right;\n",
       "    }\n",
       "</style>\n",
       "<table border=\"1\" class=\"dataframe\">\n",
       "  <thead>\n",
       "    <tr style=\"text-align: right;\">\n",
       "      <th></th>\n",
       "      <th>word</th>\n",
       "      <th>score</th>\n",
       "      <th>unique_letters</th>\n",
       "    </tr>\n",
       "  </thead>\n",
       "  <tbody>\n",
       "    <tr>\n",
       "      <th>1</th>\n",
       "      <td>solar</td>\n",
       "      <td>108</td>\n",
       "      <td>5</td>\n",
       "    </tr>\n",
       "    <tr>\n",
       "      <th>0</th>\n",
       "      <td>polar</td>\n",
       "      <td>103</td>\n",
       "      <td>5</td>\n",
       "    </tr>\n",
       "  </tbody>\n",
       "</table>\n",
       "</div>"
      ],
      "text/plain": [
       "    word  score  unique_letters\n",
       "1  solar    108               5\n",
       "0  polar    103               5"
      ]
     },
     "execution_count": 10,
     "metadata": {},
     "output_type": "execute_result"
    }
   ],
   "source": [
    "# pick first from this list\n",
    "remaining_words(prior_guesses, prior_res).sample(frac = 1)"
   ]
  },
  {
   "cell_type": "markdown",
   "metadata": {},
   "source": [
    "### Quantifying"
   ]
  },
  {
   "cell_type": "code",
   "execution_count": 175,
   "metadata": {},
   "outputs": [],
   "source": [
    "benchm1 = benchmark_method(guessing_function = suggest_next_random, n_samples = 100)"
   ]
  },
  {
   "cell_type": "code",
   "execution_count": 176,
   "metadata": {},
   "outputs": [
    {
     "data": {
      "image/png": "[encoded data removed]",
      "text/plain": [
       "<Figure size 432x288 with 1 Axes>"
      ]
     },
     "metadata": {
      "needs_background": "light"
     },
     "output_type": "display_data"
    }
   ],
   "source": [
    "plt.hist(benchm1, bins=10, range=(0.5, 10.5))\n",
    "plt.xlabel('Attempts')\n",
    "plt.ylabel('# Quizzes')\n",
    "plt.show()"
   ]
  },
  {
   "cell_type": "code",
   "execution_count": 177,
   "metadata": {},
   "outputs": [
    {
     "data": {
      "text/plain": [
       "5.0"
      ]
     },
     "execution_count": 177,
     "metadata": {},
     "output_type": "execute_result"
    }
   ],
   "source": [
    "np.median(benchm1)"
   ]
  },
  {
   "cell_type": "code",
   "execution_count": 178,
   "metadata": {},
   "outputs": [
    {
     "data": {
      "text/plain": [
       "0.87"
      ]
     },
     "execution_count": 178,
     "metadata": {},
     "output_type": "execute_result"
    }
   ],
   "source": [
    "(np.array(benchm1) <= 6).mean()"
   ]
  },
  {
   "cell_type": "markdown",
   "metadata": {},
   "source": [
    "## 2. Choose from remaining words by score"
   ]
  },
  {
   "cell_type": "code",
   "execution_count": 15,
   "metadata": {},
   "outputs": [],
   "source": [
    "prior_guesses = ['irate','tonic']\n",
    "prior_res     = ['yxxyx','ygyyx']"
   ]
  },
  {
   "cell_type": "code",
   "execution_count": 16,
   "metadata": {},
   "outputs": [],
   "source": [
    "def suggest_next_by_score(prior_guesses, prior_res):\n",
    "    return remaining_words(prior_guesses, prior_res).sort_values('score', ascending = False).iloc[0,0]"
   ]
  },
  {
   "cell_type": "code",
   "execution_count": 17,
   "metadata": {},
   "outputs": [
    {
     "data": {
      "text/html": [
       "<div>\n",
       "<style scoped>\n",
       "    .dataframe tbody tr th:only-of-type {\n",
       "        vertical-align: middle;\n",
       "    }\n",
       "\n",
       "    .dataframe tbody tr th {\n",
       "        vertical-align: top;\n",
       "    }\n",
       "\n",
       "    .dataframe thead th {\n",
       "        text-align: right;\n",
       "    }\n",
       "</style>\n",
       "<table border=\"1\" class=\"dataframe\">\n",
       "  <thead>\n",
       "    <tr style=\"text-align: right;\">\n",
       "      <th></th>\n",
       "      <th>word</th>\n",
       "      <th>score</th>\n",
       "      <th>unique_letters</th>\n",
       "    </tr>\n",
       "  </thead>\n",
       "  <tbody>\n",
       "    <tr>\n",
       "      <th>1</th>\n",
       "      <td>point</td>\n",
       "      <td>100</td>\n",
       "      <td>5</td>\n",
       "    </tr>\n",
       "    <tr>\n",
       "      <th>0</th>\n",
       "      <td>joint</td>\n",
       "      <td>88</td>\n",
       "      <td>5</td>\n",
       "    </tr>\n",
       "  </tbody>\n",
       "</table>\n",
       "</div>"
      ],
      "text/plain": [
       "    word  score  unique_letters\n",
       "1  point    100               5\n",
       "0  joint     88               5"
      ]
     },
     "execution_count": 17,
     "metadata": {},
     "output_type": "execute_result"
    }
   ],
   "source": [
    "# pick first from this list\n",
    "remaining_words(prior_guesses, prior_res).sort_values('score', ascending = False)"
   ]
  },
  {
   "cell_type": "markdown",
   "metadata": {},
   "source": [
    "### Quantifying"
   ]
  },
  {
   "cell_type": "code",
   "execution_count": 217,
   "metadata": {},
   "outputs": [],
   "source": [
    "benchm2 = benchmark_method(guessing_function = suggest_next_by_score, n_samples = 100)"
   ]
  },
  {
   "cell_type": "code",
   "execution_count": 218,
   "metadata": {},
   "outputs": [
    {
     "data": {
      "image/png": "[encoded data removed]",
      "text/plain": [
       "<Figure size 432x288 with 1 Axes>"
      ]
     },
     "metadata": {
      "needs_background": "light"
     },
     "output_type": "display_data"
    }
   ],
   "source": [
    "plt.hist(benchm1, bins=10, range=(0.5, 10.5), alpha=0.7, label='1')\n",
    "plt.hist(benchm2, bins=10, range=(0.5, 10.5), alpha=0.7, label='2')\n",
    "plt.xlabel('Attempts')\n",
    "plt.legend()\n",
    "plt.ylabel('# Quizzes')\n",
    "plt.show()"
   ]
  },
  {
   "cell_type": "code",
   "execution_count": 219,
   "metadata": {},
   "outputs": [
    {
     "data": {
      "text/plain": [
       "4.0"
      ]
     },
     "execution_count": 219,
     "metadata": {},
     "output_type": "execute_result"
    }
   ],
   "source": [
    "np.median(benchm2)"
   ]
  },
  {
   "cell_type": "code",
   "execution_count": 220,
   "metadata": {},
   "outputs": [
    {
     "data": {
      "text/plain": [
       "0.95"
      ]
     },
     "execution_count": 220,
     "metadata": {},
     "output_type": "execute_result"
    }
   ],
   "source": [
    "(np.array(benchm2) <= 6).mean()"
   ]
  }
 ],
 "metadata": {
  "kernelspec": {
   "display_name": "Python 3",
   "language": "python",
   "name": "python3"
  },
  "language_info": {
   "codemirror_mode": {
    "name": "ipython",
    "version": 3
   },
   "file_extension": ".py",
   "mimetype": "text/x-python",
   "name": "python",
   "nbconvert_exporter": "python",
   "pygments_lexer": "ipython3",
   "version": "3.6.5"
  }
 },
 "nbformat": 4,
 "nbformat_minor": 4
}
