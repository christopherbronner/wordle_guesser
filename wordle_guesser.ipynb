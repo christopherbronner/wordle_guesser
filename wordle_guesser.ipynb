{
 "cells": [
  {
   "cell_type": "markdown",
   "metadata": {},
   "source": [
    "# Wordle Guesser"
   ]
  },
  {
   "cell_type": "markdown",
   "metadata": {},
   "source": [
    "[Wordle](https://www.powerlanguage.co.uk/wordle/) is a popular word guessing game in which the player has six attempts at identifying a hidden 5-letter word. After each guess, the player receives color-coded feedback on each of the five letters of the guessed word: (1) a green letter indicates that this letter occurs in the hidden word at this position, (2) a yellow letter indicates that this letter occurs in the hidden word at a different position, (3) a gray letter doesn't appear in the hidden word.\n",
    "\n",
    "In this notebook, I'm developing a way to make suggestions for the next guess based on the previous guesses (and the corresponding feedback from Wordle).\n",
    "\n",
    "[1. Load possible words and list of letters ordered by frequency](#load)<br>\n",
    "[2. Getting feedback on a guess](#get_feedback)<br>\n",
    "[3. Determine remaining possible words](#remaining_words)<br>\n",
    "[4. Choosing the first word](#first_word)<br>\n",
    "[5. Algorithms to make the next guess](#algos)<br>\n",
    "[5.1. Randomly choosing from remaining possible words](#algos_random)<br>\n",
    "[5.2. Choose from remaining words by score](#algo_score)<br>"
   ]
  },
  {
   "cell_type": "code",
   "execution_count": 1,
   "metadata": {},
   "outputs": [],
   "source": [
    "import numpy as np\n",
    "import pandas as pd\n",
    "import random\n",
    "import matplotlib.pyplot as plt"
   ]
  },
  {
   "cell_type": "markdown",
   "metadata": {},
   "source": [
    "# 1. Load possible words and list of letters ordered by frequency <a id = 'load'>"
   ]
  },
  {
   "cell_type": "markdown",
   "metadata": {},
   "source": [
    "In the following, I'm loading a list of possible words that are used in Wordle, as well as a list of letters sorted by how frequently they occur in the English language."
   ]
  },
  {
   "cell_type": "code",
   "execution_count": 2,
   "metadata": {},
   "outputs": [],
   "source": [
    "## List of possible words from FiveThirtyEight: \n",
    "# https://fivethirtyeight.com/features/when-the-riddler-met-wordle/\n",
    "\n",
    "# Guessable words\n",
    "# https://docs.google.com/spreadsheets/d/1KR5lsyI60J1Ek6YgJRU2hKsk4iAOWvlPLUWjAZ6m8sg/edit#gid=0\n",
    "# all_words = pd.read_csv('https://docs.google.com/spreadsheets/d/1KR5lsyI60J1Ek6YgJRU2hKsk4iAOWvlPLUWjAZ6m8sg/gviz/tq?tqx=out:csv&sheet=Sheet1', header=None)[0]\n",
    "\n",
    "# Hidden words\n",
    "# https://docs.google.com/spreadsheets/d/1-M0RIVVZqbeh0mZacdAsJyBrLuEmhKUhNaVAI-7pr2Y/edit#gid=0\n",
    "all_words = pd.read_csv('https://docs.google.com/spreadsheets/d/1-M0RIVVZqbeh0mZacdAsJyBrLuEmhKUhNaVAI-7pr2Y/gviz/tq?tqx=out:csv&sheet=Sheet1', header=None)[0]\n",
    "\n",
    "# from https://www3.nd.edu/~busiforc/handouts/cryptography/letterfrequencies.html\n",
    "#letters_ordered = ['e','t','a','i','n','o','s','h','r','d','l','u','c','m','f','w','y','g','p','b','v','k','q','j','x','z']\n",
    "#letters_ordered = ['e','a','r','i','o','t','n','s','l','c','u','d','p','m','h','g','b','f','y','w','k','v','x','z','j','q']\n",
    "letter_freq = {'e': 56.88, 'a': 43.31, 'r': 38.64, 'i': 38.45, 'o': 36.51, 't': 35.43, \n",
    "               'n': 33.92, 's': 29.23, 'l': 27.98, 'c': 23.13, 'u': 18.51, 'd': 17.25, \n",
    "               'p': 16.14, 'm': 15.36, 'h': 15.31, 'g': 12.59, 'b': 10.56, 'f': 9.24, \n",
    "               'y': 9.06, 'w': 6.57, 'k': 5.61, 'v': 5.13, 'x': 1.48, 'z': 1.39, 'j': 1.00, 'q': 1.00}"
   ]
  },
  {
   "cell_type": "markdown",
   "metadata": {},
   "source": [
    "# 2. Getting feedback on a guess <a id='get_feedback'>"
   ]
  },
  {
   "cell_type": "markdown",
   "metadata": {},
   "source": [
    "Before we start coming up with ways of guessing, we want to have a way of quickly obtaining feedback for a guess (given a hidden word). The following function returns it as a 5-character string."
   ]
  },
  {
   "cell_type": "code",
   "execution_count": 3,
   "metadata": {},
   "outputs": [],
   "source": [
    "def evaluate_guess(guess_str, hidden_str):\n",
    "    \"\"\"\n",
    "    evaluate_guess returns character-wise feedback for a guess (g = green, x = gray, y = yellow)\n",
    "\n",
    "    :guess_str: 5-character string with guessed word\n",
    "    :hidden_str: actual hidden word to which guess is compared\n",
    "    :return: feedback encoded with characters g, y, x\n",
    "    \"\"\"     \n",
    "    res_str = '' # Initialize result string\n",
    "    \n",
    "    for char_id in np.arange(5):\n",
    "        \n",
    "        this_char_res = 'x' # Start by assuming that this letter can be excluded\n",
    "        \n",
    "        # If current character is anywhere in the hidden string, change result to \"yellow\"\n",
    "        if guess_str[char_id] in hidden_str:\n",
    "            this_char_res = 'y'\n",
    "            \n",
    "            # If current character is furthermore at the same position of the hidden word, change result to \"green\"\n",
    "            if guess_str[char_id] == hidden_str[char_id]:\n",
    "                this_char_res = 'g'\n",
    "                \n",
    "        res_str += this_char_res\n",
    "        \n",
    "    return res_str"
   ]
  },
  {
   "cell_type": "markdown",
   "metadata": {},
   "source": [
    "Let's try: assuming the hidden word is `paper`, what feedback would the word `apple` prompt?"
   ]
  },
  {
   "cell_type": "code",
   "execution_count": 4,
   "metadata": {},
   "outputs": [
    {
     "data": {
      "text/plain": [
       "'yygxy'"
      ]
     },
     "execution_count": 4,
     "metadata": {},
     "output_type": "execute_result"
    }
   ],
   "source": [
    "evaluate_guess(guess_str = 'apple', hidden_str = 'paper')"
   ]
  },
  {
   "cell_type": "markdown",
   "metadata": {},
   "source": [
    "# 3. Determine remaining possible words <a id='remaining_words'>"
   ]
  },
  {
   "cell_type": "markdown",
   "metadata": {},
   "source": [
    "The next step is to try to come up with a suggestion for a guess which incorporates the knowledge we already have. Let's look at an example:\n",
    "<br><br>\n",
    "<img src=\"images/wordle_ex1.png\" width=200>\n",
    "<br><br>\n",
    "After this first guess, we already know that \n",
    "<ul>\n",
    "    <li>the hidden word contains both `r` and `t` (but not in the positions in which they appear in the word `aorta`)</li>\n",
    "    <li>the second letter in the hidden word is `o`</li>\n",
    "    <li>the letter `a` is not contained in the hidden word</li>\n",
    "</ul>        \n",
    "Let's store the information we have in two lists, one for guesses and one for responses:"
   ]
  },
  {
   "cell_type": "code",
   "execution_count": 5,
   "metadata": {},
   "outputs": [],
   "source": [
    "prior_guesses = ['aorta']\n",
    "prior_res     = ['xgyyx']"
   ]
  },
  {
   "cell_type": "markdown",
   "metadata": {},
   "source": [
    "We can now apply the knowledge we have about the hidden word to systematically exclude all words from the list of possible hidden words `all_words` that don't match the feedback on the past guesses. First we reformat the information a pandas DataFrame (which makes handling the information easier when there are more guesses):"
   ]
  },
  {
   "cell_type": "code",
   "execution_count": 6,
   "metadata": {},
   "outputs": [
    {
     "data": {
      "text/html": [
       "<div>\n",
       "<style scoped>\n",
       "    .dataframe tbody tr th:only-of-type {\n",
       "        vertical-align: middle;\n",
       "    }\n",
       "\n",
       "    .dataframe tbody tr th {\n",
       "        vertical-align: top;\n",
       "    }\n",
       "\n",
       "    .dataframe thead th {\n",
       "        text-align: right;\n",
       "    }\n",
       "</style>\n",
       "<table border=\"1\" class=\"dataframe\">\n",
       "  <thead>\n",
       "    <tr style=\"text-align: right;\">\n",
       "      <th></th>\n",
       "      <th>letter</th>\n",
       "      <th>response</th>\n",
       "      <th>position</th>\n",
       "    </tr>\n",
       "  </thead>\n",
       "  <tbody>\n",
       "    <tr>\n",
       "      <th>0</th>\n",
       "      <td>a</td>\n",
       "      <td>x</td>\n",
       "      <td>1</td>\n",
       "    </tr>\n",
       "    <tr>\n",
       "      <th>1</th>\n",
       "      <td>o</td>\n",
       "      <td>g</td>\n",
       "      <td>2</td>\n",
       "    </tr>\n",
       "    <tr>\n",
       "      <th>2</th>\n",
       "      <td>r</td>\n",
       "      <td>y</td>\n",
       "      <td>3</td>\n",
       "    </tr>\n",
       "    <tr>\n",
       "      <th>3</th>\n",
       "      <td>t</td>\n",
       "      <td>y</td>\n",
       "      <td>4</td>\n",
       "    </tr>\n",
       "    <tr>\n",
       "      <th>4</th>\n",
       "      <td>a</td>\n",
       "      <td>x</td>\n",
       "      <td>5</td>\n",
       "    </tr>\n",
       "  </tbody>\n",
       "</table>\n",
       "</div>"
      ],
      "text/plain": [
       "  letter response  position\n",
       "0      a        x         1\n",
       "1      o        g         2\n",
       "2      r        y         3\n",
       "3      t        y         4\n",
       "4      a        x         5"
      ]
     },
     "execution_count": 6,
     "metadata": {},
     "output_type": "execute_result"
    }
   ],
   "source": [
    "# Table with known information about each letter and the response from prior guesses\n",
    "know = pd.DataFrame({ 'letter': list(''.join(prior_guesses)),\n",
    "                      'response': list(''.join(prior_res)),\n",
    "                      'position': list(np.arange(1,6)) * len(prior_guesses)\n",
    "                     })  \n",
    "know"
   ]
  },
  {
   "cell_type": "markdown",
   "metadata": {},
   "source": [
    "### Step 1: Exclude words that contain excluded letters"
   ]
  },
  {
   "cell_type": "markdown",
   "metadata": {},
   "source": [
    "We can remove all words from the list of possible remaining words (which will be in `rm`) that contain one of the letters that weren't \"yellow\" or \"green\" previously:"
   ]
  },
  {
   "cell_type": "code",
   "execution_count": 7,
   "metadata": {},
   "outputs": [
    {
     "data": {
      "text/plain": [
       "['a']"
      ]
     },
     "execution_count": 7,
     "metadata": {},
     "output_type": "execute_result"
    }
   ],
   "source": [
    "# Excluded letters (excluded letters don't counted if they also show up as green somewhere)\n",
    "excluded_letters = [l for l in list(know[know['response']=='x']['letter'].unique()) if l not in list(know[know['response']=='g']['letter'].unique())]\n",
    "excluded_letters"
   ]
  },
  {
   "cell_type": "code",
   "execution_count": 8,
   "metadata": {},
   "outputs": [],
   "source": [
    "# Only words that don't contain excluded letters\n",
    "rm = [w for w in all_words if not any(l in w for l in excluded_letters)]"
   ]
  },
  {
   "cell_type": "code",
   "execution_count": 9,
   "metadata": {},
   "outputs": [
    {
     "name": "stdout",
     "output_type": "stream",
     "text": [
      "Number of all possible words:  2315\n",
      "Number of remaining words:  1406\n"
     ]
    }
   ],
   "source": [
    "print('Number of all possible words: ', len(all_words))\n",
    "print('Number of remaining words: ', len(rm))"
   ]
  },
  {
   "cell_type": "markdown",
   "metadata": {},
   "source": [
    "This already narrows down the number of possible words by 40%."
   ]
  },
  {
   "cell_type": "markdown",
   "metadata": {},
   "source": [
    "### Step 2: Exclude words that don't contain all \"yellow\" letters"
   ]
  },
  {
   "cell_type": "markdown",
   "metadata": {},
   "source": [
    "In a next step, we can remove all words from `rm` that don't contain all letters that were at some point \"yellow\". All \"yellow\" letters must be incuded in the hidden word."
   ]
  },
  {
   "cell_type": "code",
   "execution_count": 10,
   "metadata": {},
   "outputs": [
    {
     "data": {
      "text/plain": [
       "['r', 't']"
      ]
     },
     "execution_count": 10,
     "metadata": {},
     "output_type": "execute_result"
    }
   ],
   "source": [
    "# Letters that were previously marked as yellow\n",
    "yellow_letters = list(know[know['response']=='y']['letter'].unique())\n",
    "yellow_letters"
   ]
  },
  {
   "cell_type": "code",
   "execution_count": 11,
   "metadata": {},
   "outputs": [],
   "source": [
    "# Only words that contain all yellow letters\n",
    "rm = [w for w in rm if (yellow_letters == []) | all(l in w for l in yellow_letters)]"
   ]
  },
  {
   "cell_type": "code",
   "execution_count": 12,
   "metadata": {},
   "outputs": [
    {
     "name": "stdout",
     "output_type": "stream",
     "text": [
      "Number of remaining words:  136\n"
     ]
    }
   ],
   "source": [
    "print('Number of remaining words: ', len(rm))"
   ]
  },
  {
   "cell_type": "markdown",
   "metadata": {},
   "source": [
    "Now we're already down to 136 words! This is still too much for guessing randomly (since we only have 6 attempts in total) but it's a great improvement."
   ]
  },
  {
   "cell_type": "markdown",
   "metadata": {},
   "source": [
    "### Step 3: Exclude words that don't have the \"green\" letters in the same places"
   ]
  },
  {
   "cell_type": "markdown",
   "metadata": {},
   "source": [
    "The green letters are an important piece of information: we can remove all words from our list that don't have those letters in the exact same positions. First we're "
   ]
  },
  {
   "cell_type": "code",
   "execution_count": 13,
   "metadata": {},
   "outputs": [],
   "source": [
    "## Only words that have green letters in the right place\n",
    "# positions with known letter\n",
    "green_pos = know[know['response']=='g'].groupby('position', as_index=False).max()[['position','letter']]\n",
    "\n",
    "# For each known position, filter only words that have the right letter in that position\n",
    "for p, l in green_pos.itertuples(index=False):\n",
    "    rm = [w for w in rm if w[p-1] == l] "
   ]
  },
  {
   "cell_type": "code",
   "execution_count": 14,
   "metadata": {},
   "outputs": [
    {
     "name": "stdout",
     "output_type": "stream",
     "text": [
      "Number of remaining words:  17\n",
      "['court', 'forte', 'forth', 'forty', 'motor', 'north', 'robot', 'roost', 'rotor', 'route', 'torch', 'torso', 'torus', 'tower', 'voter', 'worst', 'worth']\n"
     ]
    }
   ],
   "source": [
    "print('Number of remaining words: ', len(rm))\n",
    "print(rm)"
   ]
  },
  {
   "cell_type": "markdown",
   "metadata": {},
   "source": [
    "That brings us down to those last 17 words."
   ]
  },
  {
   "cell_type": "markdown",
   "metadata": {},
   "source": [
    "### Step 4: Exclude words that have a letter in a place where it was previously \"yellow\""
   ]
  },
  {
   "cell_type": "markdown",
   "metadata": {},
   "source": [
    "In the list above, one of the remaining words is `forte` but we already know that `r` cannot be in the third position and `t` cannot be in forth position because when we previously tried these letters in the same positions (in the word `aorta`), they were marked as yellow, not green. We can therefore in a last step exclude all words that have a letter in a position where is was previously marked as \"yellow\"."
   ]
  },
  {
   "cell_type": "code",
   "execution_count": 15,
   "metadata": {},
   "outputs": [],
   "source": [
    "## Only words that don't have yellow letters in the same place as previously\n",
    "# positions with yellow letter\n",
    "yellow_pos = know[know['response']=='y'].groupby(['position','letter'], as_index=False).max()[['position','letter']]\n",
    "\n",
    "# For each known position, filter only words that don't have the yellow letter in that position\n",
    "for p, l in yellow_pos.itertuples(index=False):\n",
    "    rm = [w for w in rm if w[p-1] != l] "
   ]
  },
  {
   "cell_type": "code",
   "execution_count": 16,
   "metadata": {},
   "outputs": [
    {
     "name": "stdout",
     "output_type": "stream",
     "text": [
      "Number of remaining words:  7\n"
     ]
    }
   ],
   "source": [
    "print('Number of remaining words: ', len(rm))"
   ]
  },
  {
   "cell_type": "markdown",
   "metadata": {},
   "source": [
    "### Step 5: Exclude previously tried words"
   ]
  },
  {
   "cell_type": "markdown",
   "metadata": {},
   "source": [
    "Finally, we need to exclude previously tried words (in this case the word `aorta` was already excluded in the first step though because it contains `a`)."
   ]
  },
  {
   "cell_type": "code",
   "execution_count": 17,
   "metadata": {},
   "outputs": [],
   "source": [
    "# Exclude words that were alrady tried\n",
    "rm = [w for w in rm if w not in prior_guesses]"
   ]
  },
  {
   "cell_type": "code",
   "execution_count": 18,
   "metadata": {},
   "outputs": [
    {
     "name": "stdout",
     "output_type": "stream",
     "text": [
      "Number of remaining words:  7\n"
     ]
    }
   ],
   "source": [
    "print('Number of remaining words: ', len(rm))"
   ]
  },
  {
   "cell_type": "markdown",
   "metadata": {},
   "source": [
    "### Remaining words"
   ]
  },
  {
   "cell_type": "code",
   "execution_count": 19,
   "metadata": {},
   "outputs": [
    {
     "data": {
      "text/plain": [
       "['court', 'motor', 'robot', 'roost', 'rotor', 'tower', 'voter']"
      ]
     },
     "execution_count": 19,
     "metadata": {},
     "output_type": "execute_result"
    }
   ],
   "source": [
    "rm"
   ]
  },
  {
   "cell_type": "markdown",
   "metadata": {},
   "source": [
    "We are left with a list of only 7 possible words that are consistent with the information we got back from just this first guess (although the first guess was unusually helpful).\n",
    "\n",
    "The following function combines the 5 steps and returns a DataFrame which in addition to the words themselves contains the number of distinct letters in them."
   ]
  },
  {
   "cell_type": "code",
   "execution_count": 20,
   "metadata": {},
   "outputs": [],
   "source": [
    "def remaining_words(prior_guesses, prior_res):\n",
    "    \"\"\"\n",
    "    remaining_words returns a list of possible remaining words that are consistent with the results (feedback)\n",
    "    returned by wordle for any previous guesses.\n",
    "\n",
    "    :prior_guesses: list of 5-character strings representing previous guesses\n",
    "    :prior_res: list of feedback strings for previous guesses (in the same order as prior_guesses)\n",
    "    :return: list of remaining words\n",
    "    \"\"\"     \n",
    "    # Table with known information about each letter and the response from prior guesses\n",
    "    know = pd.DataFrame({ 'letter': list(''.join(prior_guesses)),\n",
    "                          'response': list(''.join(prior_res)),\n",
    "                          'position': list(np.arange(1,6)) * len(prior_guesses)\n",
    "                         })  \n",
    "    \n",
    "    # Excluded and yellow letters (excluded letters not counted if they also show up as green somewhere)\n",
    "    excluded_letters = [l for l in list(know[know['response']=='x']['letter'].unique()) if l not in list(know[know['response']=='g']['letter'].unique())]\n",
    "    yellow_letters = list(know[know['response']=='y']['letter'].unique())\n",
    "    \n",
    "    # Only words that don't contain excluded letters\n",
    "    rm = [w for w in all_words if not any(l in w for l in excluded_letters)]\n",
    "    \n",
    "    # Only words that contain all yellow letters\n",
    "    rm = [w for w in rm if (yellow_letters == []) | all(l in w for l in yellow_letters)]\n",
    "    \n",
    "    ## Only words that have green letters in the right place\n",
    "    # positions with known letter\n",
    "    green_pos = know[know['response']=='g'].groupby('position', as_index=False).max()[['position','letter']]\n",
    "\n",
    "    # For each known position, filter only words that have the right letter in that position\n",
    "    for p, l in green_pos.itertuples(index=False):\n",
    "        rm = [w for w in rm if w[p-1] == l]    \n",
    "        \n",
    "    ## Only words that don't have yellow letters in the same place as previously\n",
    "    # positions with yellow letter\n",
    "    yellow_pos = know[know['response']=='y'].groupby(['position','letter'], as_index=False).max()[['position','letter']]\n",
    "\n",
    "    # For each known position, filter only words that don't have the yellow letter in that position\n",
    "    for p, l in yellow_pos.itertuples(index=False):\n",
    "        rm = [w for w in rm if w[p-1] != l]         \n",
    "        \n",
    "    # Exclude words that were alrady tried\n",
    "    rm = [w for w in rm if w not in prior_guesses]\n",
    "    \n",
    "    # Add word score and number of unique letters and return as randomized dataframe\n",
    "    rm = pd.DataFrame({'word': rm})\n",
    "    rm['unique_letters'] = rm['word'].map(lambda x: len(set(x)))\n",
    "    rm = rm.sample(frac = 1.)\n",
    "        \n",
    "    return rm"
   ]
  },
  {
   "cell_type": "code",
   "execution_count": 21,
   "metadata": {},
   "outputs": [
    {
     "data": {
      "text/html": [
       "<div>\n",
       "<style scoped>\n",
       "    .dataframe tbody tr th:only-of-type {\n",
       "        vertical-align: middle;\n",
       "    }\n",
       "\n",
       "    .dataframe tbody tr th {\n",
       "        vertical-align: top;\n",
       "    }\n",
       "\n",
       "    .dataframe thead th {\n",
       "        text-align: right;\n",
       "    }\n",
       "</style>\n",
       "<table border=\"1\" class=\"dataframe\">\n",
       "  <thead>\n",
       "    <tr style=\"text-align: right;\">\n",
       "      <th></th>\n",
       "      <th>word</th>\n",
       "      <th>unique_letters</th>\n",
       "    </tr>\n",
       "  </thead>\n",
       "  <tbody>\n",
       "    <tr>\n",
       "      <th>4</th>\n",
       "      <td>rotor</td>\n",
       "      <td>3</td>\n",
       "    </tr>\n",
       "    <tr>\n",
       "      <th>5</th>\n",
       "      <td>tower</td>\n",
       "      <td>5</td>\n",
       "    </tr>\n",
       "    <tr>\n",
       "      <th>6</th>\n",
       "      <td>voter</td>\n",
       "      <td>5</td>\n",
       "    </tr>\n",
       "    <tr>\n",
       "      <th>2</th>\n",
       "      <td>robot</td>\n",
       "      <td>4</td>\n",
       "    </tr>\n",
       "    <tr>\n",
       "      <th>3</th>\n",
       "      <td>roost</td>\n",
       "      <td>4</td>\n",
       "    </tr>\n",
       "    <tr>\n",
       "      <th>0</th>\n",
       "      <td>court</td>\n",
       "      <td>5</td>\n",
       "    </tr>\n",
       "    <tr>\n",
       "      <th>1</th>\n",
       "      <td>motor</td>\n",
       "      <td>4</td>\n",
       "    </tr>\n",
       "  </tbody>\n",
       "</table>\n",
       "</div>"
      ],
      "text/plain": [
       "    word  unique_letters\n",
       "4  rotor               3\n",
       "5  tower               5\n",
       "6  voter               5\n",
       "2  robot               4\n",
       "3  roost               4\n",
       "0  court               5\n",
       "1  motor               4"
      ]
     },
     "execution_count": 21,
     "metadata": {},
     "output_type": "execute_result"
    }
   ],
   "source": [
    "remaining_words(prior_guesses = ['aorta'], \n",
    "                prior_res     = ['xgyyx'])"
   ]
  },
  {
   "cell_type": "markdown",
   "metadata": {},
   "source": [
    "# 4. Choosing the first word <a id='first_word'>"
   ]
  },
  {
   "cell_type": "markdown",
   "metadata": {},
   "source": [
    "The first guess cannot rely on any feedback and therefore can be the same in each game. It has to be a word from the list of all words and we want to choose one that has 5 different letters so as to maximize the letters that can be excluded after the first try, or that could come back yellow."
   ]
  },
  {
   "cell_type": "code",
   "execution_count": 22,
   "metadata": {},
   "outputs": [
    {
     "data": {
      "text/plain": [
       "1566"
      ]
     },
     "execution_count": 22,
     "metadata": {},
     "output_type": "execute_result"
    }
   ],
   "source": [
    "best_starts = remaining_words([], [])\n",
    "best_starts = best_starts.loc[best_starts['unique_letters']==5]\n",
    "len(best_starts)"
   ]
  },
  {
   "cell_type": "markdown",
   "metadata": {},
   "source": [
    "There are still 1566 words to choose from, so we need some kind of way to prioritize them. Since we're hoping to either catch a green or yellow letter in the first try, we want to try letters that occur frequently in English words. We loaded a dictionary of words and their respective frequencies back [section 1](#load).\n",
    "\n",
    "We can use these to assign a score to each word which is the sum of the frequencies for its letters:"
   ]
  },
  {
   "cell_type": "code",
   "execution_count": 23,
   "metadata": {},
   "outputs": [],
   "source": [
    "def word_score(word):\n",
    "    \"\"\"\n",
    "    word_score calculates a score based on letter frequencies. High score indicates a word with many\n",
    "    common letters.\n",
    "\n",
    "    :word: string \n",
    "    :return: score\n",
    "    \"\"\"      \n",
    "    word_score = 0\n",
    "    for c in word:\n",
    "        word_score += letter_freq[c]\n",
    "    return word_score"
   ]
  },
  {
   "cell_type": "code",
   "execution_count": 24,
   "metadata": {},
   "outputs": [],
   "source": [
    "best_starts['score'] = best_starts['word'].map(word_score)"
   ]
  },
  {
   "cell_type": "code",
   "execution_count": 25,
   "metadata": {},
   "outputs": [
    {
     "data": {
      "text/html": [
       "<div>\n",
       "<style scoped>\n",
       "    .dataframe tbody tr th:only-of-type {\n",
       "        vertical-align: middle;\n",
       "    }\n",
       "\n",
       "    .dataframe tbody tr th {\n",
       "        vertical-align: top;\n",
       "    }\n",
       "\n",
       "    .dataframe thead th {\n",
       "        text-align: right;\n",
       "    }\n",
       "</style>\n",
       "<table border=\"1\" class=\"dataframe\">\n",
       "  <thead>\n",
       "    <tr style=\"text-align: right;\">\n",
       "      <th></th>\n",
       "      <th>word</th>\n",
       "      <th>unique_letters</th>\n",
       "      <th>score</th>\n",
       "    </tr>\n",
       "  </thead>\n",
       "  <tbody>\n",
       "    <tr>\n",
       "      <th>1043</th>\n",
       "      <td>irate</td>\n",
       "      <td>5</td>\n",
       "      <td>212.71</td>\n",
       "    </tr>\n",
       "    <tr>\n",
       "      <th>105</th>\n",
       "      <td>arise</td>\n",
       "      <td>5</td>\n",
       "      <td>206.51</td>\n",
       "    </tr>\n",
       "    <tr>\n",
       "      <th>1534</th>\n",
       "      <td>raise</td>\n",
       "      <td>5</td>\n",
       "      <td>206.51</td>\n",
       "    </tr>\n",
       "    <tr>\n",
       "      <th>120</th>\n",
       "      <td>atone</td>\n",
       "      <td>5</td>\n",
       "      <td>206.05</td>\n",
       "    </tr>\n",
       "    <tr>\n",
       "      <th>108</th>\n",
       "      <td>arose</td>\n",
       "      <td>5</td>\n",
       "      <td>204.57</td>\n",
       "    </tr>\n",
       "    <tr>\n",
       "      <th>...</th>\n",
       "      <td>...</td>\n",
       "      <td>...</td>\n",
       "      <td>...</td>\n",
       "    </tr>\n",
       "    <tr>\n",
       "      <th>613</th>\n",
       "      <td>dumpy</td>\n",
       "      <td>5</td>\n",
       "      <td>76.32</td>\n",
       "    </tr>\n",
       "    <tr>\n",
       "      <th>1489</th>\n",
       "      <td>pudgy</td>\n",
       "      <td>5</td>\n",
       "      <td>73.55</td>\n",
       "    </tr>\n",
       "    <tr>\n",
       "      <th>300</th>\n",
       "      <td>bulky</td>\n",
       "      <td>5</td>\n",
       "      <td>71.72</td>\n",
       "    </tr>\n",
       "    <tr>\n",
       "      <th>1271</th>\n",
       "      <td>mucky</td>\n",
       "      <td>5</td>\n",
       "      <td>71.67</td>\n",
       "    </tr>\n",
       "    <tr>\n",
       "      <th>1065</th>\n",
       "      <td>jumpy</td>\n",
       "      <td>5</td>\n",
       "      <td>60.07</td>\n",
       "    </tr>\n",
       "  </tbody>\n",
       "</table>\n",
       "<p>1566 rows × 3 columns</p>\n",
       "</div>"
      ],
      "text/plain": [
       "       word  unique_letters   score\n",
       "1043  irate               5  212.71\n",
       "105   arise               5  206.51\n",
       "1534  raise               5  206.51\n",
       "120   atone               5  206.05\n",
       "108   arose               5  204.57\n",
       "...     ...             ...     ...\n",
       "613   dumpy               5   76.32\n",
       "1489  pudgy               5   73.55\n",
       "300   bulky               5   71.72\n",
       "1271  mucky               5   71.67\n",
       "1065  jumpy               5   60.07\n",
       "\n",
       "[1566 rows x 3 columns]"
      ]
     },
     "execution_count": 25,
     "metadata": {},
     "output_type": "execute_result"
    }
   ],
   "source": [
    "best_starts.sort_values('score', ascending=False)"
   ]
  },
  {
   "cell_type": "markdown",
   "metadata": {},
   "source": [
    "The word with the highest score is `irate` which we therefore pick as our standard first word."
   ]
  },
  {
   "cell_type": "markdown",
   "metadata": {},
   "source": [
    "# 5. Algorithms to make the next guess <a id = 'algos'>"
   ]
  },
  {
   "cell_type": "markdown",
   "metadata": {},
   "source": [
    "In this section, we now use the list of remaining words as a basis to come up with the next guess."
   ]
  },
  {
   "cell_type": "markdown",
   "metadata": {},
   "source": [
    "## 5.1. Randomly choosing from remaining possible words <a id='algos_random'>"
   ]
  },
  {
   "cell_type": "markdown",
   "metadata": {},
   "source": [
    "The first method is to simply choose a word randomly from the reamaining words. The following function implements this simple method:"
   ]
  },
  {
   "cell_type": "code",
   "execution_count": 26,
   "metadata": {},
   "outputs": [],
   "source": [
    "def suggest_next_random(prior_guesses, prior_res):\n",
    "    \"\"\"\n",
    "    suggest_next_random suggests a next guess by randomly choosing from the list of remaining words\n",
    "\n",
    "    :prior_guesses: list of 5-character strings representing previous guesses\n",
    "    :prior_res: list of feedback strings for previous guesses (in the same order as prior_guesses)\n",
    "    :return: suggested next guess (string)\n",
    "    \"\"\"  \n",
    "    return remaining_words(prior_guesses, prior_res).sample(frac = 1.).iloc[0,0]"
   ]
  },
  {
   "cell_type": "markdown",
   "metadata": {},
   "source": [
    "Here's the output for the above example:"
   ]
  },
  {
   "cell_type": "code",
   "execution_count": 27,
   "metadata": {},
   "outputs": [
    {
     "data": {
      "text/plain": [
       "'roost'"
      ]
     },
     "execution_count": 27,
     "metadata": {},
     "output_type": "execute_result"
    }
   ],
   "source": [
    "suggest_next_random(prior_guesses = ['aorta'],\n",
    "                    prior_res     = ['xgyyx'])"
   ]
  },
  {
   "cell_type": "markdown",
   "metadata": {},
   "source": [
    "### An example game"
   ]
  },
  {
   "cell_type": "markdown",
   "metadata": {},
   "source": [
    "Let's see how our algorithm would play a game in which the hidden word is `mango`. In following block, we start with first guessing our standard word, evaluate it with `evaluate_guess`, then use that feedback to get another guess using `suggest_next_random`, and so on until we find the word."
   ]
  },
  {
   "cell_type": "code",
   "execution_count": 28,
   "metadata": {},
   "outputs": [
    {
     "name": "stdout",
     "output_type": "stream",
     "text": [
      "Attempt  1 : irate  >>  xxyxx\n",
      "Attempt  2 : bacon  >>  xgxyy\n",
      "Attempt  3 : mango  >>  ggggg\n"
     ]
    }
   ],
   "source": [
    "# Choose actual word\n",
    "actual_str = 'mango'\n",
    "\n",
    "# First guess\n",
    "n_attempts = 1\n",
    "guesses = ['irate']\n",
    "res = [evaluate_guess('irate', actual_str)]\n",
    "print('Attempt ',n_attempts, ':',guesses[-1], ' >> ', res[-1])\n",
    "\n",
    "# check if this was the right word\n",
    "if res[-1] != 'ggggg':  \n",
    "\n",
    "    for n_attempts in np.arange(2,13):\n",
    "\n",
    "        # Next guesses\n",
    "        guesses.append(suggest_next_random(guesses, res))\n",
    "        res.append(evaluate_guess(guesses[-1], actual_str))\n",
    "        print('Attempt ',n_attempts, ':',guesses[-1], ' >> ', res[-1])\n",
    "\n",
    "        # check if this was the right word\n",
    "        if res[-1] == 'ggggg':\n",
    "            break;"
   ]
  },
  {
   "cell_type": "markdown",
   "metadata": {},
   "source": [
    "### Quantifying performance"
   ]
  },
  {
   "cell_type": "markdown",
   "metadata": {},
   "source": [
    "We can quantify the performance of this simple method of guessing by simulating a number of such Wordle games. In each game, we first pick a random word from the list of all words. Then, we start with the standard word `irate`, use the feedback and our simple method to generate the next guess (using the function above `suggest_next_random`), and repeat until we either find the hidden word or hit 12 guesses."
   ]
  },
  {
   "cell_type": "code",
   "execution_count": 29,
   "metadata": {},
   "outputs": [],
   "source": [
    "def benchmark_method(guessing_function, n_samples, starting_word = 'irate'):\n",
    "    \"\"\"\n",
    "    benchmark_method simulates n_samples games of wordle in which the guessing_function is used to \n",
    "    determine the next guesses\n",
    "\n",
    "    :guessing_function: function that provides a next guess based on lists of prior guesses and results\n",
    "    :n_samples: number of simulations to run\n",
    "    :starting_word: word to be used for first guesses\n",
    "    :return: list of the number of attempts needed to find the hidden word (or 12 in case the word \n",
    "    was not found by then)\n",
    "    \"\"\"      \n",
    "    sim_attempts = []\n",
    "\n",
    "    for i in np.arange(n_samples):\n",
    "        # Choose actual word\n",
    "        actual_str = random.choice(all_words)\n",
    "        \n",
    "        # First guess\n",
    "        n_attempts = 1\n",
    "        guesses = [starting_word]\n",
    "        res = [evaluate_guess(starting_word, actual_str)]\n",
    "\n",
    "        # check if this was the right word\n",
    "        if res[-1] != 'ggggg':  \n",
    "\n",
    "            for n_attempts in np.arange(2,13):\n",
    "\n",
    "                # Next guesses\n",
    "                guesses.append(guessing_function(guesses, res))\n",
    "                res.append(evaluate_guess(guesses[-1], actual_str))\n",
    "\n",
    "                # check if this was the right word\n",
    "                if res[-1] == 'ggggg':\n",
    "                    break;\n",
    "\n",
    "        sim_attempts.append(n_attempts)    \n",
    "    \n",
    "    return sim_attempts"
   ]
  },
  {
   "cell_type": "code",
   "execution_count": 30,
   "metadata": {},
   "outputs": [],
   "source": [
    "benchm1 = benchmark_method(guessing_function = suggest_next_random, n_samples = 1000)"
   ]
  },
  {
   "cell_type": "code",
   "execution_count": 31,
   "metadata": {},
   "outputs": [
    {
     "data": {
      "image/png": "[encoded data removed]",
      "text/plain": [
       "<matplotlib.figure.Figure at 0x123b52048>"
      ]
     },
     "metadata": {},
     "output_type": "display_data"
    }
   ],
   "source": [
    "plt.hist(benchm1, bins=12, range=(0.5, 12.5))\n",
    "plt.xlabel('Number of attempts')\n",
    "plt.ylabel('Number of games')\n",
    "plt.axvline(6.5, color='red')\n",
    "plt.grid()\n",
    "plt.show()"
   ]
  },
  {
   "cell_type": "markdown",
   "metadata": {},
   "source": [
    "The above histogram shows the distribution of the number of attempts needed to guess the hidden word. We can already see that in most of the games we simulated, we needed less than 6 attempts."
   ]
  },
  {
   "cell_type": "code",
   "execution_count": 32,
   "metadata": {},
   "outputs": [
    {
     "data": {
      "text/plain": [
       "4.0"
      ]
     },
     "execution_count": 32,
     "metadata": {},
     "output_type": "execute_result"
    }
   ],
   "source": [
    "# Median number of attempts\n",
    "np.median(benchm1)"
   ]
  },
  {
   "cell_type": "code",
   "execution_count": 33,
   "metadata": {},
   "outputs": [
    {
     "data": {
      "text/plain": [
       "0.978"
      ]
     },
     "execution_count": 33,
     "metadata": {},
     "output_type": "execute_result"
    }
   ],
   "source": [
    "# Percentage of games in which the hidden word was found\n",
    "(np.array(benchm1) <= 6).mean()"
   ]
  },
  {
   "cell_type": "markdown",
   "metadata": {},
   "source": [
    "Both the median and the percentage of simulated games in which the hidden word was found show that simply picking randomly from the remaining words (and choosing a strong first word) is already a good strategy."
   ]
  },
  {
   "cell_type": "markdown",
   "metadata": {},
   "source": [
    "## 5.2. Choose from remaining words by score <a id='algo_score'>"
   ]
  },
  {
   "cell_type": "markdown",
   "metadata": {},
   "source": [
    "Now we can try to tweak the first attempt by not choosing words randomly but taking into account the word score which represents how frequently the letters in a word occur in English words."
   ]
  },
  {
   "cell_type": "code",
   "execution_count": 34,
   "metadata": {},
   "outputs": [],
   "source": [
    "def suggest_next_by_score(prior_guesses, prior_res):\n",
    "    \"\"\"\n",
    "    suggest_next_by_score suggests a next guess by choosing the word with the highest\n",
    "    word score from the list of remaining words\n",
    "\n",
    "    :prior_guesses: list of 5-character strings representing previous guesses\n",
    "    :prior_res: list of feedback strings for previous guesses (in the same order as prior_guesses)\n",
    "    :return: suggested next guess (string)\n",
    "    \"\"\"  \n",
    "    suggest = remaining_words(prior_guesses, prior_res)\n",
    "    suggest['score'] = suggest['word'].map(word_score)\n",
    "    return suggest.sort_values('score', ascending=False).iloc[0,0]"
   ]
  },
  {
   "cell_type": "markdown",
   "metadata": {},
   "source": [
    "Here is an example:"
   ]
  },
  {
   "cell_type": "code",
   "execution_count": 35,
   "metadata": {},
   "outputs": [
    {
     "data": {
      "text/plain": [
       "'verse'"
      ]
     },
     "execution_count": 35,
     "metadata": {},
     "output_type": "execute_result"
    }
   ],
   "source": [
    "suggest_next_by_score(prior_guesses = ['irate','scree'],\n",
    "                      prior_res     = ['xyxxg','yxgyg'])"
   ]
  },
  {
   "cell_type": "markdown",
   "metadata": {},
   "source": [
    "(`verse` is actually the hidden word here used to generate the example responses.)"
   ]
  },
  {
   "cell_type": "markdown",
   "metadata": {},
   "source": [
    "### Quantifying performance"
   ]
  },
  {
   "cell_type": "markdown",
   "metadata": {},
   "source": [
    "We'll quantify the performance again by simulating a number of Wordle games. In addition, we can now compare the performance to that of the previous method (random selection)."
   ]
  },
  {
   "cell_type": "code",
   "execution_count": 36,
   "metadata": {},
   "outputs": [],
   "source": [
    "benchm2 = benchmark_method(guessing_function = suggest_next_by_score, n_samples = 1000)"
   ]
  },
  {
   "cell_type": "code",
   "execution_count": 37,
   "metadata": {},
   "outputs": [
    {
     "data": {
      "image/png": "[encoded data removed]",
      "text/plain": [
       "<matplotlib.figure.Figure at 0x123ccac18>"
      ]
     },
     "metadata": {},
     "output_type": "display_data"
    }
   ],
   "source": [
    "plt.hist(benchm1, bins=12, range=(0.5, 12.5), label='Choosing randomly', alpha=0.7)\n",
    "plt.hist(benchm2, bins=12, range=(0.5, 12.5), label='Choosing by score', alpha=0.7)\n",
    "plt.xlabel('Number of attempts')\n",
    "plt.ylabel('Number of games')\n",
    "plt.axvline(6.5, color='red')\n",
    "plt.grid()\n",
    "plt.legend()\n",
    "plt.show()"
   ]
  },
  {
   "cell_type": "markdown",
   "metadata": {},
   "source": [
    "The above histogram shows the distribution of the number of attempts needed to guess the hidden word. We can already see that in most of the games we simulated, we needed less than 6 attempts."
   ]
  },
  {
   "cell_type": "code",
   "execution_count": 38,
   "metadata": {},
   "outputs": [
    {
     "data": {
      "text/plain": [
       "4.0"
      ]
     },
     "execution_count": 38,
     "metadata": {},
     "output_type": "execute_result"
    }
   ],
   "source": [
    "# Median number of attempts\n",
    "np.median(benchm2)"
   ]
  },
  {
   "cell_type": "code",
   "execution_count": 39,
   "metadata": {},
   "outputs": [
    {
     "data": {
      "text/plain": [
       "0.976"
      ]
     },
     "execution_count": 39,
     "metadata": {},
     "output_type": "execute_result"
    }
   ],
   "source": [
    "# Percentage of games in which the hidden word was found\n",
    "(np.array(benchm2) <= 6).mean()"
   ]
  },
  {
   "cell_type": "markdown",
   "metadata": {},
   "source": [
    "There is no substantial improvement to the overall result, probably because excluding letters only helps in the first 1 or 2 guesses after which there is enough information to sufficiently narrow down the list of remaining words."
   ]
  }
 ],
 "metadata": {
  "kernelspec": {
   "display_name": "Python 3",
   "language": "python",
   "name": "python3"
  },
  "language_info": {
   "codemirror_mode": {
    "name": "ipython",
    "version": 3
   },
   "file_extension": ".py",
   "mimetype": "text/x-python",
   "name": "python",
   "nbconvert_exporter": "python",
   "pygments_lexer": "ipython3",
   "version": "3.6.5"
  }
 },
 "nbformat": 4,
 "nbformat_minor": 4
}
